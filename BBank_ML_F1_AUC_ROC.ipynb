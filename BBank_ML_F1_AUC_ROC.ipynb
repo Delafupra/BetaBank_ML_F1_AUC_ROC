{
 "cells": [
  {
   "cell_type": "markdown",
   "metadata": {},
   "source": [
    "¡ Hola Diego! Como te va?\n",
    "\n",
    "Mi nombre es Facundo Lozano! Ya he tenido el agrado de revisar otros proyectos tuyos, nuevamente seré tu revisor en este proyecto.\n",
    "\n",
    "Como siempre, a continuación un poco sobre la modalidad de revisión que usaremos:\n",
    "\n",
    "Cuando enccuentro un error por primera vez, simplemente lo señalaré, te dejaré encontrarlo y arreglarlo tú cuenta. Además, a lo largo del texto iré haciendo algunas observaciones sobre mejora en tu código y también haré comentarios sobre tus percepciones sobre el tema. Pero si aún no puedes realizar esta tarea, te daré una pista más precisa en la próxima iteración y también algunos ejemplos prácticos. Estaré abierto a comentarios y discusiones sobre el tema.\n",
    "\n",
    "Encontrará mis comentarios a continuación: no los mueva, modifique ni elimine.\n",
    "\n",
    "Puedes encontrar mis comentarios en cuadros verdes, amarillos o rojos como este:\n",
    "\n",
    "\n",
    "<div class=\"alert alert-block alert-success\">\n",
    "<b>Comentario del revisor.</b> <a class=\"tocSkip\"></a>\n",
    "\n",
    "Exito. Todo se ha hecho de forma exitosa.\n",
    "</div>\n",
    "\n",
    "<div class=\"alert alert-block alert-warning\">\n",
    "<b>Comentario del revisor.</b> <a class=\"tocSkip\"></a>\n",
    "\n",
    "Observación. Algunas recomendaciones.\n",
    "</div>\n",
    "\n",
    "<div class=\"alert alert-block alert-danger\">\n",
    "\n",
    "<b>Comentario del revisor.</b> <a class=\"tocSkip\"></a>\n",
    "\n",
    "Necesita arreglos. Este apartado necesita algunas correcciones. El trabajo no puede ser aceptado con comentarios rojos. \n",
    "</div>\n",
    "\n",
    "Puedes responder utilizando esto:\n",
    "\n",
    "<div class=\"alert alert-block alert-info\">\n",
    "<b>Respuesta de estudiante.</b> <a class=\"tocSkip\"></a>\n",
    "</div>"
   ]
  },
  {
   "cell_type": "markdown",
   "metadata": {},
   "source": [
    "Este proyecto tiene como objetivo predecir la salida de clientes (churn) de Beta Bank utilizando un modelo de aprendizaje supervisado. Por lo que crearemos un algoritmo de ML utilizando python y la librería Scikit Learn, como condicion este modelo necesita un valor F1 de al menos 0.59."
   ]
  },
  {
   "cell_type": "markdown",
   "metadata": {},
   "source": [
    "<div class=\"alert alert-block alert-success\">\n",
    "<b>Review General. (Iteración 1) </b> <a class=\"tocSkip\"></a>\n",
    "\n",
    "Diego, como siempre, me tomo este tiempo al inicio del proyecto para comentar mis apreciaciones generales de esta primera iteración de la entrega. \n",
    "\n",
    "Siempre me gusta comenzar dando la bienvenida al mundo de los datos a los estudiantes, te deseo lo mejor y espero que consigas lograr tus objetivos. Personalmente siempre me gusta brindar el siguiente consejo, \"Está bien equivocarse, es normal y es lo mejor que te puede pasar. Aprendemos de los errores y eso te hará mejor programando ya que podrás descubrir cosas a medida que avances y son estas cosas las que te darán esa experiencia para ser mejor como Data Scientist\"\n",
    "    \n",
    "Ahora si yendo a esta notebook. Diego, lo he dicho al final del proyecto pero lo resalto aquí nuevamente, tu proyecto está muy bien resuelto, resalta capacidad y comprensión de todas las herramientas, como a la vez esta ordenado y es sencillo de seguir junto a agregados fantasticos, felictiaciones!\n",
    "\n",
    "Este proyecto está en condiciones de ser aprobado! Éxitos dentro de tu camino en el mundo de los datos!\n",
    "\n",
    "Saludos Diego!"
   ]
  },
  {
   "cell_type": "markdown",
   "metadata": {},
   "source": [
    "1. Cargar y preparar el dataset"
   ]
  },
  {
   "cell_type": "code",
   "execution_count": 28,
   "metadata": {},
   "outputs": [],
   "source": [
    "import pandas as pd\n",
    "\n",
    "# visualizacion\n",
    "import matplotlib.pyplot as plt\n",
    "import seaborn as sns\n",
    "\n",
    "# preprocesamiento\n",
    "from sklearn.model_selection import train_test_split\n",
    "from sklearn.metrics import r2_score, f1_score, roc_auc_score\n",
    "\n",
    "# algoritmos\n",
    "from sklearn.linear_model import LogisticRegression\n",
    "from xgboost import XGBRegressor\n",
    "from sklearn.ensemble import RandomForestClassifier"
   ]
  },
  {
   "cell_type": "code",
   "execution_count": 2,
   "metadata": {},
   "outputs": [],
   "source": [
    "# Cargar el dataset\n",
    "file_path = '/datasets/Churn.csv'\n",
    "churn_df = pd.read_csv(file_path)"
   ]
  },
  {
   "cell_type": "code",
   "execution_count": 3,
   "metadata": {},
   "outputs": [
    {
     "data": {
      "text/html": [
       "<div>\n",
       "<style scoped>\n",
       "    .dataframe tbody tr th:only-of-type {\n",
       "        vertical-align: middle;\n",
       "    }\n",
       "\n",
       "    .dataframe tbody tr th {\n",
       "        vertical-align: top;\n",
       "    }\n",
       "\n",
       "    .dataframe thead th {\n",
       "        text-align: right;\n",
       "    }\n",
       "</style>\n",
       "<table border=\"1\" class=\"dataframe\">\n",
       "  <thead>\n",
       "    <tr style=\"text-align: right;\">\n",
       "      <th></th>\n",
       "      <th>RowNumber</th>\n",
       "      <th>CustomerId</th>\n",
       "      <th>Surname</th>\n",
       "      <th>CreditScore</th>\n",
       "      <th>Geography</th>\n",
       "      <th>Gender</th>\n",
       "      <th>Age</th>\n",
       "      <th>Tenure</th>\n",
       "      <th>Balance</th>\n",
       "      <th>NumOfProducts</th>\n",
       "      <th>HasCrCard</th>\n",
       "      <th>IsActiveMember</th>\n",
       "      <th>EstimatedSalary</th>\n",
       "      <th>Exited</th>\n",
       "    </tr>\n",
       "  </thead>\n",
       "  <tbody>\n",
       "    <tr>\n",
       "      <th>0</th>\n",
       "      <td>1</td>\n",
       "      <td>15634602</td>\n",
       "      <td>Hargrave</td>\n",
       "      <td>619</td>\n",
       "      <td>France</td>\n",
       "      <td>Female</td>\n",
       "      <td>42</td>\n",
       "      <td>2.0</td>\n",
       "      <td>0.00</td>\n",
       "      <td>1</td>\n",
       "      <td>1</td>\n",
       "      <td>1</td>\n",
       "      <td>101348.88</td>\n",
       "      <td>1</td>\n",
       "    </tr>\n",
       "    <tr>\n",
       "      <th>1</th>\n",
       "      <td>2</td>\n",
       "      <td>15647311</td>\n",
       "      <td>Hill</td>\n",
       "      <td>608</td>\n",
       "      <td>Spain</td>\n",
       "      <td>Female</td>\n",
       "      <td>41</td>\n",
       "      <td>1.0</td>\n",
       "      <td>83807.86</td>\n",
       "      <td>1</td>\n",
       "      <td>0</td>\n",
       "      <td>1</td>\n",
       "      <td>112542.58</td>\n",
       "      <td>0</td>\n",
       "    </tr>\n",
       "    <tr>\n",
       "      <th>2</th>\n",
       "      <td>3</td>\n",
       "      <td>15619304</td>\n",
       "      <td>Onio</td>\n",
       "      <td>502</td>\n",
       "      <td>France</td>\n",
       "      <td>Female</td>\n",
       "      <td>42</td>\n",
       "      <td>8.0</td>\n",
       "      <td>159660.80</td>\n",
       "      <td>3</td>\n",
       "      <td>1</td>\n",
       "      <td>0</td>\n",
       "      <td>113931.57</td>\n",
       "      <td>1</td>\n",
       "    </tr>\n",
       "    <tr>\n",
       "      <th>3</th>\n",
       "      <td>4</td>\n",
       "      <td>15701354</td>\n",
       "      <td>Boni</td>\n",
       "      <td>699</td>\n",
       "      <td>France</td>\n",
       "      <td>Female</td>\n",
       "      <td>39</td>\n",
       "      <td>1.0</td>\n",
       "      <td>0.00</td>\n",
       "      <td>2</td>\n",
       "      <td>0</td>\n",
       "      <td>0</td>\n",
       "      <td>93826.63</td>\n",
       "      <td>0</td>\n",
       "    </tr>\n",
       "    <tr>\n",
       "      <th>4</th>\n",
       "      <td>5</td>\n",
       "      <td>15737888</td>\n",
       "      <td>Mitchell</td>\n",
       "      <td>850</td>\n",
       "      <td>Spain</td>\n",
       "      <td>Female</td>\n",
       "      <td>43</td>\n",
       "      <td>2.0</td>\n",
       "      <td>125510.82</td>\n",
       "      <td>1</td>\n",
       "      <td>1</td>\n",
       "      <td>1</td>\n",
       "      <td>79084.10</td>\n",
       "      <td>0</td>\n",
       "    </tr>\n",
       "    <tr>\n",
       "      <th>5</th>\n",
       "      <td>6</td>\n",
       "      <td>15574012</td>\n",
       "      <td>Chu</td>\n",
       "      <td>645</td>\n",
       "      <td>Spain</td>\n",
       "      <td>Male</td>\n",
       "      <td>44</td>\n",
       "      <td>8.0</td>\n",
       "      <td>113755.78</td>\n",
       "      <td>2</td>\n",
       "      <td>1</td>\n",
       "      <td>0</td>\n",
       "      <td>149756.71</td>\n",
       "      <td>1</td>\n",
       "    </tr>\n",
       "    <tr>\n",
       "      <th>6</th>\n",
       "      <td>7</td>\n",
       "      <td>15592531</td>\n",
       "      <td>Bartlett</td>\n",
       "      <td>822</td>\n",
       "      <td>France</td>\n",
       "      <td>Male</td>\n",
       "      <td>50</td>\n",
       "      <td>7.0</td>\n",
       "      <td>0.00</td>\n",
       "      <td>2</td>\n",
       "      <td>1</td>\n",
       "      <td>1</td>\n",
       "      <td>10062.80</td>\n",
       "      <td>0</td>\n",
       "    </tr>\n",
       "    <tr>\n",
       "      <th>7</th>\n",
       "      <td>8</td>\n",
       "      <td>15656148</td>\n",
       "      <td>Obinna</td>\n",
       "      <td>376</td>\n",
       "      <td>Germany</td>\n",
       "      <td>Female</td>\n",
       "      <td>29</td>\n",
       "      <td>4.0</td>\n",
       "      <td>115046.74</td>\n",
       "      <td>4</td>\n",
       "      <td>1</td>\n",
       "      <td>0</td>\n",
       "      <td>119346.88</td>\n",
       "      <td>1</td>\n",
       "    </tr>\n",
       "    <tr>\n",
       "      <th>8</th>\n",
       "      <td>9</td>\n",
       "      <td>15792365</td>\n",
       "      <td>He</td>\n",
       "      <td>501</td>\n",
       "      <td>France</td>\n",
       "      <td>Male</td>\n",
       "      <td>44</td>\n",
       "      <td>4.0</td>\n",
       "      <td>142051.07</td>\n",
       "      <td>2</td>\n",
       "      <td>0</td>\n",
       "      <td>1</td>\n",
       "      <td>74940.50</td>\n",
       "      <td>0</td>\n",
       "    </tr>\n",
       "    <tr>\n",
       "      <th>9</th>\n",
       "      <td>10</td>\n",
       "      <td>15592389</td>\n",
       "      <td>H?</td>\n",
       "      <td>684</td>\n",
       "      <td>France</td>\n",
       "      <td>Male</td>\n",
       "      <td>27</td>\n",
       "      <td>2.0</td>\n",
       "      <td>134603.88</td>\n",
       "      <td>1</td>\n",
       "      <td>1</td>\n",
       "      <td>1</td>\n",
       "      <td>71725.73</td>\n",
       "      <td>0</td>\n",
       "    </tr>\n",
       "  </tbody>\n",
       "</table>\n",
       "</div>"
      ],
      "text/plain": [
       "   RowNumber  CustomerId   Surname  CreditScore Geography  Gender  Age  \\\n",
       "0          1    15634602  Hargrave          619    France  Female   42   \n",
       "1          2    15647311      Hill          608     Spain  Female   41   \n",
       "2          3    15619304      Onio          502    France  Female   42   \n",
       "3          4    15701354      Boni          699    France  Female   39   \n",
       "4          5    15737888  Mitchell          850     Spain  Female   43   \n",
       "5          6    15574012       Chu          645     Spain    Male   44   \n",
       "6          7    15592531  Bartlett          822    France    Male   50   \n",
       "7          8    15656148    Obinna          376   Germany  Female   29   \n",
       "8          9    15792365        He          501    France    Male   44   \n",
       "9         10    15592389        H?          684    France    Male   27   \n",
       "\n",
       "   Tenure    Balance  NumOfProducts  HasCrCard  IsActiveMember  \\\n",
       "0     2.0       0.00              1          1               1   \n",
       "1     1.0   83807.86              1          0               1   \n",
       "2     8.0  159660.80              3          1               0   \n",
       "3     1.0       0.00              2          0               0   \n",
       "4     2.0  125510.82              1          1               1   \n",
       "5     8.0  113755.78              2          1               0   \n",
       "6     7.0       0.00              2          1               1   \n",
       "7     4.0  115046.74              4          1               0   \n",
       "8     4.0  142051.07              2          0               1   \n",
       "9     2.0  134603.88              1          1               1   \n",
       "\n",
       "   EstimatedSalary  Exited  \n",
       "0        101348.88       1  \n",
       "1        112542.58       0  \n",
       "2        113931.57       1  \n",
       "3         93826.63       0  \n",
       "4         79084.10       0  \n",
       "5        149756.71       1  \n",
       "6         10062.80       0  \n",
       "7        119346.88       1  \n",
       "8         74940.50       0  \n",
       "9         71725.73       0  "
      ]
     },
     "execution_count": 3,
     "metadata": {},
     "output_type": "execute_result"
    }
   ],
   "source": [
    "churn_df.head(10)"
   ]
  },
  {
   "cell_type": "markdown",
   "metadata": {},
   "source": [
    "<div class=\"alert alert-block alert-success\">\n",
    "<b>Comentario del revisor. (Iteración 1)</b> <a class=\"tocSkip\"></a>\n",
    "\n",
    "Excelente Diego! Hasta aquí hemos importado correctamente las librerías manteniendolas por separado de la carga de los datos y tamibién hemos implementado métodos para la comprensión de la composición de nuestros datos, bien hecho!"
   ]
  },
  {
   "cell_type": "code",
   "execution_count": 4,
   "metadata": {},
   "outputs": [],
   "source": [
    "# Eliminar columnas innecesarias\n",
    "df = churn_df.drop(['RowNumber', 'CustomerId'], axis=1)"
   ]
  },
  {
   "cell_type": "code",
   "execution_count": 5,
   "metadata": {},
   "outputs": [
    {
     "data": {
      "text/plain": [
       "(10000, 12)"
      ]
     },
     "execution_count": 5,
     "metadata": {},
     "output_type": "execute_result"
    }
   ],
   "source": [
    "df.shape"
   ]
  },
  {
   "cell_type": "code",
   "execution_count": 6,
   "metadata": {},
   "outputs": [
    {
     "data": {
      "text/plain": [
       "Surname              0\n",
       "CreditScore          0\n",
       "Geography            0\n",
       "Gender               0\n",
       "Age                  0\n",
       "Tenure             909\n",
       "Balance              0\n",
       "NumOfProducts        0\n",
       "HasCrCard            0\n",
       "IsActiveMember       0\n",
       "EstimatedSalary      0\n",
       "Exited               0\n",
       "dtype: int64"
      ]
     },
     "execution_count": 6,
     "metadata": {},
     "output_type": "execute_result"
    }
   ],
   "source": [
    "# Comprobar si hay valores nulos\n",
    "df.isnull().sum()\n"
   ]
  },
  {
   "cell_type": "code",
   "execution_count": 7,
   "metadata": {},
   "outputs": [],
   "source": [
    "df['Tenure'].fillna(df['Tenure'].median(), inplace=True)"
   ]
  },
  {
   "cell_type": "code",
   "execution_count": 8,
   "metadata": {},
   "outputs": [
    {
     "data": {
      "text/plain": [
       "0"
      ]
     },
     "execution_count": 8,
     "metadata": {},
     "output_type": "execute_result"
    }
   ],
   "source": [
    "# control duplicados\n",
    "df.duplicated().sum()"
   ]
  },
  {
   "cell_type": "code",
   "execution_count": 9,
   "metadata": {},
   "outputs": [
    {
     "name": "stdout",
     "output_type": "stream",
     "text": [
      "<class 'pandas.core.frame.DataFrame'>\n",
      "RangeIndex: 10000 entries, 0 to 9999\n",
      "Data columns (total 12 columns):\n",
      " #   Column           Non-Null Count  Dtype  \n",
      "---  ------           --------------  -----  \n",
      " 0   Surname          10000 non-null  object \n",
      " 1   CreditScore      10000 non-null  int64  \n",
      " 2   Geography        10000 non-null  object \n",
      " 3   Gender           10000 non-null  object \n",
      " 4   Age              10000 non-null  int64  \n",
      " 5   Tenure           10000 non-null  float64\n",
      " 6   Balance          10000 non-null  float64\n",
      " 7   NumOfProducts    10000 non-null  int64  \n",
      " 8   HasCrCard        10000 non-null  int64  \n",
      " 9   IsActiveMember   10000 non-null  int64  \n",
      " 10  EstimatedSalary  10000 non-null  float64\n",
      " 11  Exited           10000 non-null  int64  \n",
      "dtypes: float64(3), int64(6), object(3)\n",
      "memory usage: 937.6+ KB\n"
     ]
    }
   ],
   "source": [
    "# Información general sobre los datos\n",
    "df.info()"
   ]
  },
  {
   "cell_type": "code",
   "execution_count": 10,
   "metadata": {},
   "outputs": [
    {
     "data": {
      "text/html": [
       "<div>\n",
       "<style scoped>\n",
       "    .dataframe tbody tr th:only-of-type {\n",
       "        vertical-align: middle;\n",
       "    }\n",
       "\n",
       "    .dataframe tbody tr th {\n",
       "        vertical-align: top;\n",
       "    }\n",
       "\n",
       "    .dataframe thead th {\n",
       "        text-align: right;\n",
       "    }\n",
       "</style>\n",
       "<table border=\"1\" class=\"dataframe\">\n",
       "  <thead>\n",
       "    <tr style=\"text-align: right;\">\n",
       "      <th></th>\n",
       "      <th>CreditScore</th>\n",
       "      <th>Age</th>\n",
       "      <th>Tenure</th>\n",
       "      <th>Balance</th>\n",
       "      <th>NumOfProducts</th>\n",
       "      <th>HasCrCard</th>\n",
       "      <th>IsActiveMember</th>\n",
       "      <th>EstimatedSalary</th>\n",
       "      <th>Exited</th>\n",
       "    </tr>\n",
       "  </thead>\n",
       "  <tbody>\n",
       "    <tr>\n",
       "      <th>count</th>\n",
       "      <td>10000.000000</td>\n",
       "      <td>10000.000000</td>\n",
       "      <td>10000.00000</td>\n",
       "      <td>10000.000000</td>\n",
       "      <td>10000.000000</td>\n",
       "      <td>10000.00000</td>\n",
       "      <td>10000.000000</td>\n",
       "      <td>10000.000000</td>\n",
       "      <td>10000.000000</td>\n",
       "    </tr>\n",
       "    <tr>\n",
       "      <th>mean</th>\n",
       "      <td>650.528800</td>\n",
       "      <td>38.921800</td>\n",
       "      <td>4.99790</td>\n",
       "      <td>76485.889288</td>\n",
       "      <td>1.530200</td>\n",
       "      <td>0.70550</td>\n",
       "      <td>0.515100</td>\n",
       "      <td>100090.239881</td>\n",
       "      <td>0.203700</td>\n",
       "    </tr>\n",
       "    <tr>\n",
       "      <th>std</th>\n",
       "      <td>96.653299</td>\n",
       "      <td>10.487806</td>\n",
       "      <td>2.76001</td>\n",
       "      <td>62397.405202</td>\n",
       "      <td>0.581654</td>\n",
       "      <td>0.45584</td>\n",
       "      <td>0.499797</td>\n",
       "      <td>57510.492818</td>\n",
       "      <td>0.402769</td>\n",
       "    </tr>\n",
       "    <tr>\n",
       "      <th>min</th>\n",
       "      <td>350.000000</td>\n",
       "      <td>18.000000</td>\n",
       "      <td>0.00000</td>\n",
       "      <td>0.000000</td>\n",
       "      <td>1.000000</td>\n",
       "      <td>0.00000</td>\n",
       "      <td>0.000000</td>\n",
       "      <td>11.580000</td>\n",
       "      <td>0.000000</td>\n",
       "    </tr>\n",
       "    <tr>\n",
       "      <th>25%</th>\n",
       "      <td>584.000000</td>\n",
       "      <td>32.000000</td>\n",
       "      <td>3.00000</td>\n",
       "      <td>0.000000</td>\n",
       "      <td>1.000000</td>\n",
       "      <td>0.00000</td>\n",
       "      <td>0.000000</td>\n",
       "      <td>51002.110000</td>\n",
       "      <td>0.000000</td>\n",
       "    </tr>\n",
       "    <tr>\n",
       "      <th>50%</th>\n",
       "      <td>652.000000</td>\n",
       "      <td>37.000000</td>\n",
       "      <td>5.00000</td>\n",
       "      <td>97198.540000</td>\n",
       "      <td>1.000000</td>\n",
       "      <td>1.00000</td>\n",
       "      <td>1.000000</td>\n",
       "      <td>100193.915000</td>\n",
       "      <td>0.000000</td>\n",
       "    </tr>\n",
       "    <tr>\n",
       "      <th>75%</th>\n",
       "      <td>718.000000</td>\n",
       "      <td>44.000000</td>\n",
       "      <td>7.00000</td>\n",
       "      <td>127644.240000</td>\n",
       "      <td>2.000000</td>\n",
       "      <td>1.00000</td>\n",
       "      <td>1.000000</td>\n",
       "      <td>149388.247500</td>\n",
       "      <td>0.000000</td>\n",
       "    </tr>\n",
       "    <tr>\n",
       "      <th>max</th>\n",
       "      <td>850.000000</td>\n",
       "      <td>92.000000</td>\n",
       "      <td>10.00000</td>\n",
       "      <td>250898.090000</td>\n",
       "      <td>4.000000</td>\n",
       "      <td>1.00000</td>\n",
       "      <td>1.000000</td>\n",
       "      <td>199992.480000</td>\n",
       "      <td>1.000000</td>\n",
       "    </tr>\n",
       "  </tbody>\n",
       "</table>\n",
       "</div>"
      ],
      "text/plain": [
       "        CreditScore           Age       Tenure        Balance  NumOfProducts  \\\n",
       "count  10000.000000  10000.000000  10000.00000   10000.000000   10000.000000   \n",
       "mean     650.528800     38.921800      4.99790   76485.889288       1.530200   \n",
       "std       96.653299     10.487806      2.76001   62397.405202       0.581654   \n",
       "min      350.000000     18.000000      0.00000       0.000000       1.000000   \n",
       "25%      584.000000     32.000000      3.00000       0.000000       1.000000   \n",
       "50%      652.000000     37.000000      5.00000   97198.540000       1.000000   \n",
       "75%      718.000000     44.000000      7.00000  127644.240000       2.000000   \n",
       "max      850.000000     92.000000     10.00000  250898.090000       4.000000   \n",
       "\n",
       "         HasCrCard  IsActiveMember  EstimatedSalary        Exited  \n",
       "count  10000.00000    10000.000000     10000.000000  10000.000000  \n",
       "mean       0.70550        0.515100    100090.239881      0.203700  \n",
       "std        0.45584        0.499797     57510.492818      0.402769  \n",
       "min        0.00000        0.000000        11.580000      0.000000  \n",
       "25%        0.00000        0.000000     51002.110000      0.000000  \n",
       "50%        1.00000        1.000000    100193.915000      0.000000  \n",
       "75%        1.00000        1.000000    149388.247500      0.000000  \n",
       "max        1.00000        1.000000    199992.480000      1.000000  "
      ]
     },
     "execution_count": 10,
     "metadata": {},
     "output_type": "execute_result"
    }
   ],
   "source": [
    "df.describe()"
   ]
  },
  {
   "cell_type": "markdown",
   "metadata": {},
   "source": [
    "<div class=\"alert alert-block alert-success\">\n",
    "<b>Comentario del revisor. (Iteración 1)</b> <a class=\"tocSkip\"></a>\n",
    "\n",
    "Una gran cantidad de pasos aquí, excelente al quitar aquellas features que no aportan valor, por otro lado excelente corroboración de nulos y relleno de los mismos en este caso mediante la media, felicitaciones!"
   ]
  },
  {
   "cell_type": "code",
   "execution_count": 11,
   "metadata": {},
   "outputs": [],
   "source": [
    "# Codificar variables categóricas\n",
    "df = pd.get_dummies(df, columns=['Geography', 'Gender'], drop_first=True)"
   ]
  },
  {
   "cell_type": "markdown",
   "metadata": {},
   "source": [
    "<div class=\"alert alert-block alert-success\">\n",
    "<b>Comentario del revisor. (Iteración 1)</b> <a class=\"tocSkip\"></a>\n",
    "\n",
    "Transformaciones de las features categóricas a numéricas perfectamente!"
   ]
  },
  {
   "cell_type": "code",
   "execution_count": 12,
   "metadata": {},
   "outputs": [
    {
     "data": {
      "image/png": "[encoded data removed]",
      "text/plain": [
       "<Figure size 1000x800 with 2 Axes>"
      ]
     },
     "metadata": {},
     "output_type": "display_data"
    }
   ],
   "source": [
    "plt.figure(figsize=(10,8))\n",
    "sns.heatmap(df.corr(), annot=True, cmap='coolwarm')\n",
    "plt.show()"
   ]
  },
  {
   "cell_type": "code",
   "execution_count": 13,
   "metadata": {},
   "outputs": [
    {
     "data": {
      "text/plain": [
       "0    0.7963\n",
       "1    0.2037\n",
       "Name: Exited, dtype: float64"
      ]
     },
     "execution_count": 13,
     "metadata": {},
     "output_type": "execute_result"
    }
   ],
   "source": [
    "# Distribución de la variable objetivo 'Exited'\n",
    "df['Exited'].value_counts(normalize=True)"
   ]
  },
  {
   "cell_type": "code",
   "execution_count": 14,
   "metadata": {},
   "outputs": [
    {
     "data": {
      "image/png": "[encoded data removed]",
      "text/plain": [
       "<Figure size 640x480 with 1 Axes>"
      ]
     },
     "metadata": {},
     "output_type": "display_data"
    }
   ],
   "source": [
    "sns.countplot(x='Exited', data=df)\n",
    "plt.title('Distribución de clientes que se han ido vs los que se han quedado')\n",
    "plt.show()"
   ]
  },
  {
   "cell_type": "markdown",
   "metadata": {},
   "source": [
    "<div class=\"alert alert-block alert-success\">\n",
    "<b>Comentario del revisor. (Iteración 1)</b> <a class=\"tocSkip\"></a>\n",
    "\n",
    "Tanto el análisis de correlaciones entre las features como el análisis del desbalanceo de la target es perfecto! Sigamos!"
   ]
  },
  {
   "cell_type": "markdown",
   "metadata": {},
   "source": [
    "2. Entrenar el modelo"
   ]
  },
  {
   "cell_type": "code",
   "execution_count": 15,
   "metadata": {},
   "outputs": [],
   "source": [
    "# Separar características y la variable objetivo\n",
    "X = df.drop(['Exited', 'Surname'], axis=1)\n",
    "y = df['Exited']"
   ]
  },
  {
   "cell_type": "code",
   "execution_count": 19,
   "metadata": {},
   "outputs": [
    {
     "name": "stdout",
     "output_type": "stream",
     "text": [
      "x_train_full size (8000, 11)\n",
      "y_train_full size (8000,)\n",
      "x_test size (2000, 11)\n",
      "y_test size (2000,)\n",
      "x_train size (6000, 11)\n",
      "y_train size (6000,)\n",
      "x_val size (2000, 11)\n",
      "y_val size (2000,)\n"
     ]
    }
   ],
   "source": [
    "# Dividir en entrenamiento (60%), validación (20%) y prueba (20%)\n",
    "X_train_full, X_test, y_train_full, y_test = train_test_split(X, y, test_size=0.2, random_state=42)\n",
    "X_train, X_val, y_train, y_val = train_test_split(X_train_full, y_train_full, test_size=0.25, random_state=42)\n",
    "\n",
    "print('x_train_full size',X_train_full.shape)\n",
    "print('y_train_full size',y_train_full.shape)\n",
    "print('x_test size',X_test.shape)\n",
    "print('y_test size',y_test.shape)\n",
    "print('x_train size',X_train.shape)\n",
    "print('y_train size',y_train.shape)\n",
    "print('x_val size',X_val.shape)\n",
    "print('y_val size',y_val.shape)"
   ]
  },
  {
   "cell_type": "markdown",
   "metadata": {},
   "source": [
    "<div class=\"alert alert-block alert-success\">\n",
    "<b>Comentario del revisor. (Iteración 1)</b> <a class=\"tocSkip\"></a>\n",
    "\n",
    "División de los datos perfecta en los 3 grupos correspondientes!"
   ]
  },
  {
   "cell_type": "code",
   "execution_count": 20,
   "metadata": {},
   "outputs": [
    {
     "name": "stdout",
     "output_type": "stream",
     "text": [
      "F1 Score (sin corrección): 0.5988023952095808\n",
      "AUC-ROC (sin corrección): 0.8573595084761019\n"
     ]
    }
   ],
   "source": [
    "# Entrenar el modelo sin corrección de desequilibrio\n",
    "model_base = RandomForestClassifier(random_state=42)\n",
    "model_base.fit(X_train, y_train)\n",
    "\n",
    "# Evaluar el modelo en el conjunto de validación\n",
    "y_val_pred_base = model_base.predict(X_val)\n",
    "\n",
    "# Calcular F1 y AUC-ROC\n",
    "f1_base = f1_score(y_val, y_val_pred_base)\n",
    "roc_auc_base = roc_auc_score(y_val, model_base.predict_proba(X_val)[:, 1])\n",
    "\n",
    "print(f'F1 Score (sin corrección): {f1_base}')\n",
    "print(f'AUC-ROC (sin corrección): {roc_auc_base}')"
   ]
  },
  {
   "cell_type": "code",
   "execution_count": 30,
   "metadata": {},
   "outputs": [
    {
     "name": "stdout",
     "output_type": "stream",
     "text": [
      "F1 Score (sin corrección): 0.10460251046025104\n",
      "AUC-ROC (sin corrección): 0.6787991413283778\n"
     ]
    }
   ],
   "source": [
    "# Entrenar el modelo sin corrección de desequilibrio\n",
    "model_base = LogisticRegression(random_state=42)\n",
    "model_base.fit(X_train, y_train)\n",
    "\n",
    "# Evaluar el modelo en el conjunto de validación\n",
    "y_val_pred_base = model_base.predict(X_val)\n",
    "\n",
    "# Calcular F1 y AUC-ROC\n",
    "f1_base = f1_score(y_val, y_val_pred_base)\n",
    "roc_auc_base = roc_auc_score(y_val, model_base.predict_proba(X_val)[:, 1])\n",
    "\n",
    "print(f'F1 Score (sin corrección): {f1_base}')\n",
    "print(f'AUC-ROC (sin corrección): {roc_auc_base}')"
   ]
  },
  {
   "cell_type": "markdown",
   "metadata": {},
   "source": [
    "<div class=\"alert alert-block alert-success\">\n",
    "<b>Comentario del revisor. (Iteración 1)</b> <a class=\"tocSkip\"></a>\n",
    "\n",
    "Declaraciones de los modelos bien hechas como a la vez la elección de métricas para comprender el desempeño de los mismos!"
   ]
  },
  {
   "cell_type": "code",
   "execution_count": 22,
   "metadata": {},
   "outputs": [
    {
     "name": "stdout",
     "output_type": "stream",
     "text": [
      "F1 Score (Oversampling): 0.6061415220293725\n",
      "AUC-ROC (Oversampling): 0.8596030703460776\n"
     ]
    }
   ],
   "source": [
    "#Enfoque sobremuestreo y submuestreo\n",
    "from sklearn.utils import resample\n",
    "\n",
    "# Combinar X_train y y_train en un único DataFrame\n",
    "train_data = pd.concat([X_train, y_train], axis=1)\n",
    "\n",
    "# Separar las clases mayoritaria y minoritaria\n",
    "class_major = train_data[train_data['Exited'] == 0]\n",
    "class_minor = train_data[train_data['Exited'] == 1]\n",
    "\n",
    "# Aplicar sobremuestreo a la clase minoritaria\n",
    "class_minor_oversampled = resample(class_minor, \n",
    "                                         replace=True,    # Sobremuestrear con reemplazo\n",
    "                                         n_samples=len(class_major), # Igualar el número de muestras a la clase mayoritaria\n",
    "                                         random_state=42)  # Fijar la semilla para reproducibilidad\n",
    "\n",
    "# Combinar ambas clases\n",
    "train_data_oversampled = pd.concat([class_major, class_minor_oversampled])\n",
    "\n",
    "# Separar las características y el objetivo nuevamente\n",
    "X_train_oversampled = train_data_oversampled.drop('Exited', axis=1)\n",
    "y_train_oversampled = train_data_oversampled['Exited']\n",
    "\n",
    "# Entrenar el modelo con datos sobremuestreados\n",
    "model_oversampled = RandomForestClassifier(random_state=42)\n",
    "model_oversampled.fit(X_train_oversampled, y_train_oversampled)\n",
    "\n",
    "# Evaluar en el conjunto de validación\n",
    "y_val_pred_oversampled = model_oversampled.predict(X_val)\n",
    "\n",
    "# Calcular F1 y AUC-ROC\n",
    "f1_oversampled = f1_score(y_val, y_val_pred_oversampled)\n",
    "roc_auc_oversampled = roc_auc_score(y_val, model_oversampled.predict_proba(X_val)[:, 1])\n",
    "\n",
    "print(f'F1 Score (Oversampling): {f1_oversampled}')\n",
    "print(f'AUC-ROC (Oversampling): {roc_auc_oversampled}')"
   ]
  },
  {
   "cell_type": "markdown",
   "metadata": {},
   "source": [
    "<div class=\"alert alert-block alert-success\">\n",
    "<b>Comentario del revisor. (Iteración 1)</b> <a class=\"tocSkip\"></a>\n",
    "\n",
    "Y tal como debíamos hemos implementado dos métodos para mitigar el desbalanceo como el sobremuestreo y submuestreo, claramente una mejora de los resultados! Impresionante!"
   ]
  },
  {
   "cell_type": "code",
   "execution_count": 26,
   "metadata": {},
   "outputs": [
    {
     "name": "stdout",
     "output_type": "stream",
     "text": [
      "Comparación de resultados:\n",
      "F1 Score sin corrección: 0.5988023952095808, AUC-ROC sin corrección: 0.8573595084761019\n",
      "F1 Score con Oversampling: 0.6061415220293725, AUC-ROC con Oversampling: 0.8596030703460776\n"
     ]
    }
   ],
   "source": [
    "print(f'Comparación de resultados:')\n",
    "print(f'F1 Score sin corrección: {f1_base}, AUC-ROC sin corrección: {roc_auc_base}')\n",
    "print(f'F1 Score con Oversampling: {f1_oversampled}, AUC-ROC con Oversampling: {roc_auc_oversampled}')\n"
   ]
  },
  {
   "cell_type": "code",
   "execution_count": 31,
   "metadata": {},
   "outputs": [
    {
     "name": "stdout",
     "output_type": "stream",
     "text": [
      "F1 Score (Logistic Regression Sobremuestreo): 0.45792880258899676\n",
      "AUC-ROC (Logistic Regression Sobremuestreo): 0.71324060045985\n"
     ]
    }
   ],
   "source": [
    "# Entrenar Regresión Logística con sobremuestreo\n",
    "model_lr_oversampled = LogisticRegression(random_state=42, max_iter=1000)\n",
    "model_lr_oversampled.fit(X_train_oversampled, y_train_oversampled)\n",
    "\n",
    "# Evaluar el modelo en el conjunto de validación\n",
    "y_val_pred_lr_oversampled = model_lr_oversampled.predict(X_val)\n",
    "\n",
    "# Calcular F1 y AUC-ROC\n",
    "f1_lr_oversampled = f1_score(y_val, y_val_pred_lr_oversampled)\n",
    "roc_auc_lr_oversampled = roc_auc_score(y_val, model_lr_oversampled.predict_proba(X_val)[:, 1])\n",
    "\n",
    "print(f'F1 Score (Logistic Regression Sobremuestreo): {f1_lr_oversampled}')\n",
    "print(f'AUC-ROC (Logistic Regression Sobremuestreo): {roc_auc_lr_oversampled}')"
   ]
  },
  {
   "cell_type": "markdown",
   "metadata": {},
   "source": [
    "<div class=\"alert alert-block alert-success\">\n",
    "<b>Comentario del revisor. (Iteración 1)</b> <a class=\"tocSkip\"></a>\n",
    "\n",
    "Y tal como se debía hemos hecho la predicción final sobre el tercer conjunto, un trabajo conciso y perfecto!"
   ]
  },
  {
   "cell_type": "code",
   "execution_count": null,
   "metadata": {},
   "outputs": [],
   "source": []
  }
 ],
 "metadata": {
  "ExecuteTimeLog": [
   {
    "duration": 312,
    "start_time": "2024-09-08T18:00:25.023Z"
   },
   {
    "duration": 524,
    "start_time": "2024-09-08T18:00:39.846Z"
   },
   {
    "duration": 58,
    "start_time": "2024-09-08T18:01:27.742Z"
   },
   {
    "duration": 57,
    "start_time": "2024-09-08T18:01:31.433Z"
   },
   {
    "duration": 58,
    "start_time": "2024-09-08T18:01:54.227Z"
   },
   {
    "duration": 60,
    "start_time": "2024-09-08T18:01:58.331Z"
   },
   {
    "duration": 60,
    "start_time": "2024-09-08T18:02:58.743Z"
   },
   {
    "duration": 27,
    "start_time": "2024-09-08T18:03:01.982Z"
   },
   {
    "duration": 12,
    "start_time": "2024-09-08T18:03:29.827Z"
   },
   {
    "duration": 13,
    "start_time": "2024-09-08T18:03:35.761Z"
   },
   {
    "duration": 15,
    "start_time": "2024-09-08T18:03:40.431Z"
   },
   {
    "duration": 2412,
    "start_time": "2024-09-08T18:04:11.713Z"
   },
   {
    "duration": 63,
    "start_time": "2024-09-08T18:04:55.519Z"
   },
   {
    "duration": 12,
    "start_time": "2024-09-08T18:05:00.291Z"
   },
   {
    "duration": 4,
    "start_time": "2024-09-08T18:05:19.976Z"
   },
   {
    "duration": 4,
    "start_time": "2024-09-08T18:09:19.049Z"
   },
   {
    "duration": 4,
    "start_time": "2024-09-08T18:10:08.503Z"
   },
   {
    "duration": 13,
    "start_time": "2024-09-08T18:11:01.941Z"
   },
   {
    "duration": 16,
    "start_time": "2024-09-08T18:11:08.536Z"
   },
   {
    "duration": 16,
    "start_time": "2024-09-08T18:11:15.988Z"
   },
   {
    "duration": 12,
    "start_time": "2024-09-08T18:11:19.568Z"
   },
   {
    "duration": 8,
    "start_time": "2024-09-08T18:11:35.573Z"
   },
   {
    "duration": 11,
    "start_time": "2024-09-08T18:11:47.138Z"
   },
   {
    "duration": 72,
    "start_time": "2024-09-08T18:12:25.609Z"
   },
   {
    "duration": 9,
    "start_time": "2024-09-08T18:12:33.074Z"
   },
   {
    "duration": 17,
    "start_time": "2024-09-08T18:14:08.022Z"
   },
   {
    "duration": 615,
    "start_time": "2024-09-08T18:14:16.175Z"
   },
   {
    "duration": 16,
    "start_time": "2024-09-08T18:14:36.006Z"
   },
   {
    "duration": 12,
    "start_time": "2024-09-08T18:14:38.064Z"
   },
   {
    "duration": 3,
    "start_time": "2024-09-08T18:14:42.090Z"
   },
   {
    "duration": 3,
    "start_time": "2024-09-08T18:14:44.401Z"
   },
   {
    "duration": 3,
    "start_time": "2024-09-08T18:15:22.289Z"
   },
   {
    "duration": 3,
    "start_time": "2024-09-08T18:15:24.617Z"
   },
   {
    "duration": 3,
    "start_time": "2024-09-08T18:15:30.608Z"
   },
   {
    "duration": 10,
    "start_time": "2024-09-08T18:15:37.789Z"
   },
   {
    "duration": 15,
    "start_time": "2024-09-08T18:15:44.255Z"
   },
   {
    "duration": 3,
    "start_time": "2024-09-08T18:15:47.685Z"
   },
   {
    "duration": 3,
    "start_time": "2024-09-08T18:15:50.081Z"
   },
   {
    "duration": 6,
    "start_time": "2024-09-08T18:15:52.991Z"
   },
   {
    "duration": 9,
    "start_time": "2024-09-08T18:15:59.292Z"
   },
   {
    "duration": 10,
    "start_time": "2024-09-08T18:16:02.250Z"
   },
   {
    "duration": 6,
    "start_time": "2024-09-08T18:22:02.534Z"
   },
   {
    "duration": 12,
    "start_time": "2024-09-08T18:22:09.594Z"
   },
   {
    "duration": 4,
    "start_time": "2024-09-08T18:25:30.613Z"
   },
   {
    "duration": 6,
    "start_time": "2024-09-08T18:25:33.495Z"
   },
   {
    "duration": 6,
    "start_time": "2024-09-08T18:26:24.930Z"
   },
   {
    "duration": 24,
    "start_time": "2024-09-08T18:28:43.258Z"
   },
   {
    "duration": 7,
    "start_time": "2024-09-08T18:31:38.678Z"
   },
   {
    "duration": 5,
    "start_time": "2024-09-08T18:31:42.448Z"
   },
   {
    "duration": 6,
    "start_time": "2024-09-08T18:31:44.313Z"
   },
   {
    "duration": 915,
    "start_time": "2024-09-08T18:32:29.746Z"
   },
   {
    "duration": 164,
    "start_time": "2024-09-08T18:34:13.662Z"
   },
   {
    "duration": 144,
    "start_time": "2024-09-08T18:34:16.799Z"
   },
   {
    "duration": 865,
    "start_time": "2024-09-08T18:34:29.895Z"
   },
   {
    "duration": 38,
    "start_time": "2024-09-08T18:34:39.086Z"
   },
   {
    "duration": 973,
    "start_time": "2024-09-08T18:35:22.171Z"
   },
   {
    "duration": 15,
    "start_time": "2024-09-08T18:35:23.146Z"
   },
   {
    "duration": 13,
    "start_time": "2024-09-08T18:35:23.163Z"
   },
   {
    "duration": 4,
    "start_time": "2024-09-08T18:35:23.177Z"
   },
   {
    "duration": 3,
    "start_time": "2024-09-08T18:35:23.183Z"
   },
   {
    "duration": 7,
    "start_time": "2024-09-08T18:35:23.188Z"
   },
   {
    "duration": 33,
    "start_time": "2024-09-08T18:35:23.197Z"
   },
   {
    "duration": 9,
    "start_time": "2024-09-08T18:35:23.232Z"
   },
   {
    "duration": 22,
    "start_time": "2024-09-08T18:35:23.243Z"
   },
   {
    "duration": 6,
    "start_time": "2024-09-08T18:35:23.267Z"
   },
   {
    "duration": 950,
    "start_time": "2024-09-08T18:35:23.275Z"
   },
   {
    "duration": 7,
    "start_time": "2024-09-08T18:35:24.226Z"
   },
   {
    "duration": 4,
    "start_time": "2024-09-08T18:35:24.234Z"
   },
   {
    "duration": 5,
    "start_time": "2024-09-08T18:35:24.241Z"
   },
   {
    "duration": 94,
    "start_time": "2024-09-08T18:36:13.671Z"
   },
   {
    "duration": 873,
    "start_time": "2024-09-08T18:37:26.436Z"
   },
   {
    "duration": 3,
    "start_time": "2024-09-08T18:37:44.689Z"
   },
   {
    "duration": 6,
    "start_time": "2024-09-08T18:37:48.628Z"
   },
   {
    "duration": 15,
    "start_time": "2024-09-08T18:41:34.923Z"
   },
   {
    "duration": 11,
    "start_time": "2024-09-08T18:41:39.719Z"
   },
   {
    "duration": 168,
    "start_time": "2024-09-08T18:41:42.839Z"
   },
   {
    "duration": 62,
    "start_time": "2024-09-08T18:42:57.545Z"
   },
   {
    "duration": 5,
    "start_time": "2024-09-08T18:44:44.827Z"
   },
   {
    "duration": 5,
    "start_time": "2024-09-08T18:45:55.312Z"
   },
   {
    "duration": 79,
    "start_time": "2024-09-08T18:46:29.995Z"
   },
   {
    "duration": 998,
    "start_time": "2024-09-08T18:46:40.790Z"
   },
   {
    "duration": 16,
    "start_time": "2024-09-08T18:46:41.790Z"
   },
   {
    "duration": 22,
    "start_time": "2024-09-08T18:46:41.808Z"
   },
   {
    "duration": 3,
    "start_time": "2024-09-08T18:46:41.832Z"
   },
   {
    "duration": 3,
    "start_time": "2024-09-08T18:46:41.838Z"
   },
   {
    "duration": 6,
    "start_time": "2024-09-08T18:46:41.843Z"
   },
   {
    "duration": 4,
    "start_time": "2024-09-08T18:46:41.850Z"
   },
   {
    "duration": 9,
    "start_time": "2024-09-08T18:46:41.856Z"
   },
   {
    "duration": 9,
    "start_time": "2024-09-08T18:46:41.866Z"
   },
   {
    "duration": 60,
    "start_time": "2024-09-08T18:46:41.876Z"
   },
   {
    "duration": 7,
    "start_time": "2024-09-08T18:46:41.937Z"
   },
   {
    "duration": 910,
    "start_time": "2024-09-08T18:46:41.946Z"
   },
   {
    "duration": 7,
    "start_time": "2024-09-08T18:46:42.858Z"
   },
   {
    "duration": 92,
    "start_time": "2024-09-08T18:46:42.868Z"
   },
   {
    "duration": 4,
    "start_time": "2024-09-08T18:46:42.962Z"
   },
   {
    "duration": 5,
    "start_time": "2024-09-08T18:46:42.967Z"
   },
   {
    "duration": 809,
    "start_time": "2024-09-08T18:46:42.974Z"
   },
   {
    "duration": 239,
    "start_time": "2024-09-08T19:04:01.893Z"
   },
   {
    "duration": 8783,
    "start_time": "2024-09-08T19:09:05.919Z"
   },
   {
    "duration": 23,
    "start_time": "2024-09-08T19:09:14.704Z"
   },
   {
    "duration": 18,
    "start_time": "2024-09-08T19:09:42.806Z"
   },
   {
    "duration": 93,
    "start_time": "2024-09-08T19:09:50.054Z"
   },
   {
    "duration": 14,
    "start_time": "2024-09-08T19:09:51.127Z"
   },
   {
    "duration": 14,
    "start_time": "2024-09-08T19:09:51.621Z"
   },
   {
    "duration": 15,
    "start_time": "2024-09-08T19:09:52.082Z"
   },
   {
    "duration": 14,
    "start_time": "2024-09-08T19:09:52.408Z"
   },
   {
    "duration": 1068,
    "start_time": "2024-09-08T19:13:05.085Z"
   },
   {
    "duration": 19,
    "start_time": "2024-09-08T19:13:06.155Z"
   },
   {
    "duration": 17,
    "start_time": "2024-09-08T19:13:06.177Z"
   },
   {
    "duration": 4,
    "start_time": "2024-09-08T19:13:06.196Z"
   },
   {
    "duration": 4,
    "start_time": "2024-09-08T19:13:06.202Z"
   },
   {
    "duration": 6,
    "start_time": "2024-09-08T19:13:06.223Z"
   },
   {
    "duration": 4,
    "start_time": "2024-09-08T19:13:06.230Z"
   },
   {
    "duration": 9,
    "start_time": "2024-09-08T19:13:06.236Z"
   },
   {
    "duration": 9,
    "start_time": "2024-09-08T19:13:06.246Z"
   },
   {
    "duration": 22,
    "start_time": "2024-09-08T19:13:06.257Z"
   },
   {
    "duration": 6,
    "start_time": "2024-09-08T19:13:06.281Z"
   },
   {
    "duration": 988,
    "start_time": "2024-09-08T19:13:06.289Z"
   },
   {
    "duration": 6,
    "start_time": "2024-09-08T19:13:07.278Z"
   },
   {
    "duration": 97,
    "start_time": "2024-09-08T19:13:07.288Z"
   },
   {
    "duration": 4,
    "start_time": "2024-09-08T19:13:07.387Z"
   },
   {
    "duration": 5,
    "start_time": "2024-09-08T19:13:07.393Z"
   },
   {
    "duration": 830,
    "start_time": "2024-09-08T19:13:07.399Z"
   },
   {
    "duration": 1342,
    "start_time": "2024-09-08T19:13:08.231Z"
   },
   {
    "duration": 231,
    "start_time": "2024-09-08T19:13:09.575Z"
   },
   {
    "duration": 15,
    "start_time": "2024-09-08T19:13:24.020Z"
   },
   {
    "duration": 2354,
    "start_time": "2024-09-08T19:14:28.730Z"
   },
   {
    "duration": 164,
    "start_time": "2024-09-08T19:17:49.930Z"
   },
   {
    "duration": 1078,
    "start_time": "2024-09-08T19:18:00.164Z"
   },
   {
    "duration": 16,
    "start_time": "2024-09-08T19:18:01.245Z"
   },
   {
    "duration": 14,
    "start_time": "2024-09-08T19:18:01.262Z"
   },
   {
    "duration": 3,
    "start_time": "2024-09-08T19:18:01.279Z"
   },
   {
    "duration": 3,
    "start_time": "2024-09-08T19:18:01.286Z"
   },
   {
    "duration": 33,
    "start_time": "2024-09-08T19:18:01.291Z"
   },
   {
    "duration": 4,
    "start_time": "2024-09-08T19:18:01.326Z"
   },
   {
    "duration": 8,
    "start_time": "2024-09-08T19:18:01.333Z"
   },
   {
    "duration": 10,
    "start_time": "2024-09-08T19:18:01.343Z"
   },
   {
    "duration": 24,
    "start_time": "2024-09-08T19:18:01.354Z"
   },
   {
    "duration": 8,
    "start_time": "2024-09-08T19:18:01.379Z"
   },
   {
    "duration": 968,
    "start_time": "2024-09-08T19:18:01.388Z"
   },
   {
    "duration": 6,
    "start_time": "2024-09-08T19:18:02.359Z"
   },
   {
    "duration": 92,
    "start_time": "2024-09-08T19:18:02.369Z"
   },
   {
    "duration": 4,
    "start_time": "2024-09-08T19:18:02.463Z"
   },
   {
    "duration": 7,
    "start_time": "2024-09-08T19:18:02.469Z"
   },
   {
    "duration": 635,
    "start_time": "2024-09-08T19:18:02.478Z"
   },
   {
    "duration": 244,
    "start_time": "2024-09-08T19:18:03.115Z"
   },
   {
    "duration": 9,
    "start_time": "2024-09-08T19:19:20.946Z"
   },
   {
    "duration": 610,
    "start_time": "2024-09-08T19:19:54.600Z"
   },
   {
    "duration": 22,
    "start_time": "2024-09-08T19:22:05.002Z"
   },
   {
    "duration": 827,
    "start_time": "2024-09-08T19:22:29.606Z"
   },
   {
    "duration": 595,
    "start_time": "2024-09-08T19:26:59.497Z"
   },
   {
    "duration": 374,
    "start_time": "2024-09-08T19:27:48.383Z"
   },
   {
    "duration": 3,
    "start_time": "2024-09-08T19:28:25.972Z"
   },
   {
    "duration": 2,
    "start_time": "2024-09-08T19:28:42.907Z"
   },
   {
    "duration": 15,
    "start_time": "2024-09-08T19:31:05.319Z"
   },
   {
    "duration": 2,
    "start_time": "2024-09-08T19:31:34.515Z"
   },
   {
    "duration": 112,
    "start_time": "2024-09-08T19:31:38.414Z"
   },
   {
    "duration": 61,
    "start_time": "2024-09-08T19:32:14.963Z"
   },
   {
    "duration": 127,
    "start_time": "2024-09-08T19:32:44.500Z"
   }
  ],
  "kernelspec": {
   "display_name": "Python 3 (ipykernel)",
   "language": "python",
   "name": "python3"
  },
  "language_info": {
   "codemirror_mode": {
    "name": "ipython",
    "version": 3
   },
   "file_extension": ".py",
   "mimetype": "text/x-python",
   "name": "python",
   "nbconvert_exporter": "python",
   "pygments_lexer": "ipython3",
   "version": "3.9.19"
  },
  "toc": {
   "base_numbering": 1,
   "nav_menu": {},
   "number_sections": true,
   "sideBar": true,
   "skip_h1_title": true,
   "title_cell": "Table of Contents",
   "title_sidebar": "Contents",
   "toc_cell": false,
   "toc_position": {},
   "toc_section_display": true,
   "toc_window_display": false
  }
 },
 "nbformat": 4,
 "nbformat_minor": 2
}
